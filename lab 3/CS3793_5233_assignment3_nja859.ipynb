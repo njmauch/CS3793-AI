{
 "cells": [
  {
   "cell_type": "markdown",
   "metadata": {
    "id": "9wUL_Fy5qUDI"
   },
   "source": [
    "# UTSA CS 3793/5233: Lab-3\n",
    "\n",
    "Mauch - Nathan - (nja859)**\n",
    "\n",
    "\n",
    "\n",
    "\n"
   ]
  },
  {
   "cell_type": "markdown",
   "metadata": {
    "id": "NM8b9KVYsETT"
   },
   "source": [
    "## Learning Objectives\n",
    "\n",
    "Implement 2 different machine learning algorithms\n",
    "*   Stochastic Gradient Descent\n",
    "*   ID3 Decision Tree\n"
   ]
  },
  {
   "cell_type": "markdown",
   "metadata": {
    "id": "LzR4Ic34zJlT"
   },
   "source": [
    "\n",
    "## Description\n",
    "\n",
    "This assignment is focused on **machine learning**, mainly on the implementation of 2 different algorithms - Stochastic Gradient Descent & ID3 decision tree. \n",
    "The assignment is divided into two sections, each for one unique ML algorithm. \n",
    "\n",
    "The base structure and comments are provided on what should be done. You can use some libraries that help support you for the successful completion of the assignment. However, you **CANNOT** use a complete library that contains the implementation of ML algorithms. You can get pieces of code from online, but please cite the source properly.\n"
   ]
  },
  {
   "cell_type": "markdown",
   "metadata": {
    "id": "vnPfmHAOteOI"
   },
   "source": [
    "##Import Libraries\n",
    "\n",
    "Write all the import statements here. This should be for both algorithm implmentations. As mentioned before, you can not use any premade ML libraries."
   ]
  },
  {
   "cell_type": "code",
   "execution_count": 1,
   "metadata": {
    "id": "f9apbZGptej6"
   },
   "outputs": [],
   "source": [
    "# import all required libraries\n",
    "import pandas as pd\n",
    "import numpy as np\n"
   ]
  },
  {
   "cell_type": "markdown",
   "metadata": {
    "id": "YeYRnesWqvLm"
   },
   "source": [
    "#Stochastic Gradient Descent\n",
    "\n",
    "In this section, you will implement the Stochastic Gradient Descent algorithm. The training is for a **binary classification** task i.e. each instance will have a class value of 0 or 1. Also, assume that you are given **all binary-valued attributes** and that there are **no missing values** in the train or test data. \n"
   ]
  },
  {
   "cell_type": "markdown",
   "metadata": {
    "id": "IUVZIK6ctMi4"
   },
   "source": [
    "##Algorithm\n",
    "\n",
    "(50 points)\n",
    "\n",
    "Following are the data files that will be provided to you for the gradient descent algorithm implementation.\n",
    "\n",
    "*   Training file - 'gd-train.dat'\n",
    "*   Testing file - 'gd-test.dat'\n",
    "\n",
    "*Both these files should be present in the same folder as this code file.* In these files, only non-space characters are relevant. The first line contains the attribute names. All the other lines are different example instances to be used for the algorithm. Each column holds values of the attributes, whereas the last column holds the class label for that instance.\n",
    "\n",
    "Write the code in the following code block, structure is provided. Instructions on the steps to follow are provided as comments.\n",
    "\n"
   ]
  },
  {
   "cell_type": "code",
   "execution_count": 6,
   "metadata": {
    "id": "YdPwgSBOtb1P"
   },
   "outputs": [
    {
     "name": "stdout",
     "output_type": "stream",
     "text": [
      "weights LR: 0.05 [-0.14427773 -0.0251061  -0.0415309  -0.0544741   0.01732909  0.00469047\n",
      " -0.1530238   0.0818733   0.14890177  0.17779531  0.04779422 -0.15036033\n",
      "  0.11460082]\n",
      "Accuracy for LR of 0.05 on Training set = 0.99\n",
      "Accuracy for LR of 0.05 on Test set = 0.7125\n",
      "weights LR: 0.1 [-0.22803052 -0.08589045 -0.04220899 -0.11964478  0.0521289   0.03416562\n",
      " -0.17034817  0.0729052   0.18812455  0.20597161  0.05577991 -0.21002375\n",
      "  0.191185  ]\n",
      "Accuracy for LR of 0.1 on Training set = 0.99\n",
      "Accuracy for LR of 0.1 on Test set = 0.705\n",
      "weights LR: 0.15 [-0.27017723 -0.13581671 -0.03932454 -0.15432714  0.11180166  0.05165222\n",
      " -0.16136942  0.05532322  0.21135714  0.18972133  0.07805919 -0.21635691\n",
      "  0.25703005]\n",
      "Accuracy for LR of 0.15 on Training set = 0.93\n",
      "Accuracy for LR of 0.15 on Test set = 0.7\n",
      "weights LR: 0.2 [-0.30406228 -0.192787   -0.02725498 -0.14564236  0.17792908  0.07046939\n",
      " -0.13255114  0.0057044   0.23844572  0.18816264  0.10031035 -0.22398051\n",
      "  0.28903135]\n",
      "Accuracy for LR of 0.2 on Training set = 0.93\n",
      "Accuracy for LR of 0.2 on Test set = 0.67\n",
      "weights LR: 0.25 [-0.3556624  -0.30134969  0.01166156 -0.10631688  0.22890267  0.10919194\n",
      " -0.06527006 -0.08114448  0.27216572  0.22023798  0.08979922 -0.24398059\n",
      "  0.28624164]\n",
      "Accuracy for LR of 0.25 on Training set = 0.88\n",
      "Accuracy for LR of 0.25 on Test set = 0.6425\n",
      "weights LR: 0.3 [-0.42950362 -0.4937215   0.08335217 -0.08165509  0.24948264  0.16746653\n",
      "  0.01743751 -0.16608424  0.31645088  0.26585395  0.00950807 -0.2610771\n",
      "  0.25293605]\n",
      "Accuracy for LR of 0.3 on Training set = 0.9\n",
      "Accuracy for LR of 0.3 on Test set = 0.635\n",
      "weights LR: 0.35 [-0.49947381 -0.75891784  0.17182157 -0.12917095  0.22680675  0.23837392\n",
      "  0.04956262 -0.20716653  0.37395544  0.28219979 -0.15524538 -0.26824917\n",
      "  0.18441118]\n",
      "Accuracy for LR of 0.35 on Training set = 0.96\n",
      "Accuracy for LR of 0.35 on Test set = 0.635\n",
      "weights LR: 0.4 [-0.53555633 -1.02941816  0.24836301 -0.25897517  0.15249806  0.31200394\n",
      " -0.01183935 -0.20112979  0.43181737  0.25095887 -0.36731832 -0.27504238\n",
      "  0.08454041]\n",
      "Accuracy for LR of 0.4 on Training set = 0.97\n",
      "Accuracy for LR of 0.4 on Test set = 0.67\n",
      "weights LR: 0.45 [-0.53827409 -1.22179454  0.29347972 -0.40406694  0.05677397  0.36935111\n",
      " -0.12293318 -0.17795954  0.47016384  0.19910584 -0.54753675 -0.28553811\n",
      " -0.01267297]\n",
      "Accuracy for LR of 0.45 on Training set = 0.99\n",
      "Accuracy for LR of 0.45 on Test set = 0.7\n",
      "weights LR: 0.5 [-0.53398449 -1.28932622  0.30716355 -0.46765484  0.0112769   0.39092366\n",
      " -0.17885141 -0.16687476  0.48242618  0.17392951 -0.61828762 -0.29100248\n",
      " -0.05410937]\n",
      "Accuracy for LR of 0.5 on Training set = 0.99\n",
      "Accuracy for LR of 0.5 on Test set = 0.7025\n",
      "weights LR: 0.55 [-0.53827409 -1.22179454  0.29347972 -0.40406694  0.05677397  0.36935111\n",
      " -0.12293318 -0.17795954  0.47016384  0.19910584 -0.54753675 -0.28553811\n",
      " -0.01267297]\n",
      "Accuracy for LR of 0.55 on Training set = 0.99\n",
      "Accuracy for LR of 0.55 on Test set = 0.7\n",
      "weights LR: 0.6 [-0.53555633 -1.02941816  0.24836301 -0.25897517  0.15249806  0.31200394\n",
      " -0.01183935 -0.20112979  0.43181737  0.25095887 -0.36731832 -0.27504238\n",
      "  0.08454041]\n",
      "Accuracy for LR of 0.6 on Training set = 0.97\n",
      "Accuracy for LR of 0.6 on Test set = 0.67\n",
      "weights LR: 0.65 [-0.49947381 -0.75891784  0.17182157 -0.12917095  0.22680675  0.23837392\n",
      "  0.04956262 -0.20716653  0.37395544  0.28219979 -0.15524538 -0.26824917\n",
      "  0.18441118]\n",
      "Accuracy for LR of 0.65 on Training set = 0.96\n",
      "Accuracy for LR of 0.65 on Test set = 0.635\n",
      "weights LR: 0.7 [-0.42950362 -0.4937215   0.08335217 -0.08165509  0.24948264  0.16746653\n",
      "  0.01743751 -0.16608424  0.31645088  0.26585395  0.00950807 -0.2610771\n",
      "  0.25293605]\n",
      "Accuracy for LR of 0.7 on Training set = 0.9\n",
      "Accuracy for LR of 0.7 on Test set = 0.635\n",
      "weights LR: 0.75 [-0.3556624  -0.30134969  0.01166156 -0.10631688  0.22890267  0.10919194\n",
      " -0.06527006 -0.08114448  0.27216572  0.22023798  0.08979922 -0.24398059\n",
      "  0.28624164]\n",
      "Accuracy for LR of 0.75 on Training set = 0.88\n",
      "Accuracy for LR of 0.75 on Test set = 0.6425\n",
      "weights LR: 0.8 [-0.30406228 -0.192787   -0.02725498 -0.14564236  0.17792908  0.07046939\n",
      " -0.13255114  0.0057044   0.23844572  0.18816264  0.10031035 -0.22398051\n",
      "  0.28903135]\n",
      "Accuracy for LR of 0.8 on Training set = 0.93\n",
      "Accuracy for LR of 0.8 on Test set = 0.67\n",
      "weights LR: 0.85 [-0.27017723 -0.13581671 -0.03932454 -0.15432714  0.11180166  0.05165222\n",
      " -0.16136942  0.05532322  0.21135714  0.18972133  0.07805919 -0.21635691\n",
      "  0.25703005]\n",
      "Accuracy for LR of 0.85 on Training set = 0.93\n",
      "Accuracy for LR of 0.85 on Test set = 0.7\n",
      "weights LR: 0.9 [-0.22803052 -0.08589045 -0.04220899 -0.11964478  0.0521289   0.03416562\n",
      " -0.17034817  0.0729052   0.18812455  0.20597161  0.05577991 -0.21002375\n",
      "  0.191185  ]\n",
      "Accuracy for LR of 0.9 on Training set = 0.99\n",
      "Accuracy for LR of 0.9 on Test set = 0.705\n",
      "weights LR: 0.95 [-0.14427773 -0.0251061  -0.0415309  -0.0544741   0.01732909  0.00469047\n",
      " -0.1530238   0.0818733   0.14890177  0.17779531  0.04779422 -0.15036033\n",
      "  0.11460082]\n",
      "Accuracy for LR of 0.95 on Training set = 0.99\n",
      "Accuracy for LR of 0.95 on Test set = 0.7125\n",
      "weights LR: 1.0 [0. 0. 0. 0. 0. 0. 0. 0. 0. 0. 0. 0. 0.]\n",
      "Accuracy for LR of 1.0 on Training set = 1.0\n",
      "Accuracy for LR of 1.0 on Test set = 0.7225\n"
     ]
    }
   ],
   "source": [
    "# Data file name variables\n",
    "train = 'gd-train.dat'\n",
    "test = 'gd-test.dat'\n",
    "\n",
    "# Threshold of 0.5 will be used to classify the instance for the test. If the value is >= 0.5, classify as 1 or else 0.\n",
    "threshold = 0.5\n",
    "\n",
    "\n",
    "# Open the training file\n",
    "training_file = open(train, \"r\")\n",
    "test_file = open(test, 'r')\n",
    "# Read the first line to get the number of attributes\n",
    "attr_line = training_file.readline().strip('\\n').split('\\t')\n",
    "num_attr = len(attr_line) - 1\n",
    "# Initialize weights for all attributes to 0\n",
    "weights = np.zeros(num_attr)\n",
    "# Read all the training instances\n",
    "training_instances = np.loadtxt(train, skiprows=1, delimiter='\\t', usecols=(0,1,2,3,4,5,6,7,8,9,10,11,12))\n",
    "test_instances = np.loadtxt(test, skiprows=1, delimiter='\\t', usecols=(0,1,2,3,4,5,6,7,8,9,10,11,12))\n",
    "class_label = np.loadtxt(train, skiprows=1, delimiter='\\t', usecols=(13))\n",
    "test_class_label = np.loadtxt(test, skiprows=1, delimiter='\\t', usecols=(13))\n",
    "# The learning rate for the algorithm. You will loop through the data and train for different learning rates from 0.05-1,\n",
    "# in increments of 0.05.\n",
    "learning_rate = [0.05, 0.1, 0.15, 0.2, 0.25, 0.3, 0.35, 0.4, 0.45, 0.5, 0.55, 0.6, 0.65, 0.7, 0.75, 0.8, 0.85, 0.9, 0.95, 1.0]\n",
    "\n",
    "# Main algorithm loop\n",
    "# Loop through all the different learning rates as mentioned above\n",
    "for lr in learning_rate:\n",
    "    weights = np.zeros(num_attr)\n",
    "    total_train = 0\n",
    "    positive_train = 0\n",
    "    positive_test = 0\n",
    "    total_test = 0\n",
    "    # For each learning rate selected, train the and calculate the weights\n",
    "    # Loop through all the data instances in the training file. We will only perform 1 iteration of the complete training data\n",
    "    for i in range(len(training_instances)):\n",
    "        b = lr * (class_label[i] - np.dot(weights, training_instances[i]))\n",
    "        hw = np.dot(weights, training_instances[i]) + b\n",
    "        for j in range(num_attr):\n",
    "            weights[j] = weights[j] + lr * (class_label[i] - hw) * training_instances[i][j]\n",
    "        # For each instance, get the output class label using the original weights\n",
    "        # Get the error value using the provided class label\n",
    "        # Update the weights using the selected learning rate\n",
    "    print(\"weights LR: \" + str(lr), end=' ')\n",
    "    print(weights)\n",
    "    # Use the above trained model to predict the training data and print the accuracy as \"Accuracy for LR of 0.1 on Training set = x %\"\n",
    "    for k in range(len(training_instances)):\n",
    "        total_train = total_train + 1\n",
    "        # For each training instance, predict the output label using the threshold of 0.5\n",
    "        prediction = np.dot(weights, training_instances[k])\n",
    "        if prediction >= 0.5:\n",
    "            prediction = 1\n",
    "        else:\n",
    "            prediction = 0\n",
    "        if float(prediction) == float(class_label[i]):\n",
    "            positive_train = positive_train + 1\n",
    "        # Compare it with the ground truth class label and calculate the positive and negative classification for accuracy\n",
    "    accuracy = positive_train/total_train\n",
    "    print(\"Accuracy for LR of \" + str(lr) + \" on Training set = \" + str(accuracy))\n",
    "    # Use the above trained model to predict the testing data and print the accuracy as \"Accuracy for LR of 0.1 on Testing set = x %\"\n",
    "    for x in range(len(test_instances)):\n",
    "        total_test = total_test + 1\n",
    "        prediction = np.dot(weights, test_instances[x])\n",
    "        if prediction >= 0.5:\n",
    "            prediction = 1\n",
    "        else:\n",
    "            prediction = 0\n",
    "        if float(prediction) == float(test_class_label[x]):\n",
    "            positive_test = positive_test + 1\n",
    "    accuracy = positive_test/total_test\n",
    "    print(\"Accuracy for LR of \" + str(lr) + \" on Test set = \" + str(accuracy))\n",
    "        # For each testing instance, predict the output label using the threshold of 0.5\n",
    "        # Compare it with the ground truth class label and calculate the positive and negative classification for accuracy"
   ]
  },
  {
   "cell_type": "markdown",
   "metadata": {
    "id": "lYxmgcnes9cS"
   },
   "source": [
    "##Extra Credit - Accuracy Plots\n",
    "\n",
    "(5 points)\n",
    "\n",
    "Use the above accuracy results on the training and testing data and write code to plot the graphs as mentioned in the code block below.\n",
    "\n"
   ]
  },
  {
   "cell_type": "code",
   "execution_count": null,
   "metadata": {
    "id": "fbBNakSDq0Wv"
   },
   "outputs": [],
   "source": [
    "# Plot the graphs for accuracy results.\n",
    "# There will be 2 graphs - one for training data and the other for testing data\n",
    "# For each graph,\n",
    "    # X-axis will be the learning rate going from 0.05-1 in increments on 0.05\n",
    "    # Y-axis will be the accuracy values at the selected learning rate.\n",
    "\n"
   ]
  },
  {
   "cell_type": "markdown",
   "metadata": {
    "id": "onnqJYTEq0l3"
   },
   "source": [
    "#ID3 Decision Tree\n",
    "\n",
    "In this section, you will implement the ID3 Decision Tree algorithm. The training is for a **binary classification** task i.e. each instance will have a class value of 0 or 1. Also, assume that you are given **all binary-valued attributes** and that there are **no missing values** in the train or test data. \n"
   ]
  },
  {
   "cell_type": "markdown",
   "metadata": {
    "id": "eDNztBkTtRPw"
   },
   "source": [
    "## Algorithm\n",
    "\n",
    "(100 points)\n",
    "\n",
    "Following are the data files that will be provided to you for the ID3 algorithm implementation.\n",
    "\n",
    "*   Training file - 'id3-train.dat'\n",
    "*   Testing file - 'id3-test.dat'\n",
    "\n",
    "*Both these files should be present in the same folder as this code file.* In these files, only non-space characters are relevant. The first line contains the attribute names. All the other lines are example instances to be used for the algorithm. Each column holds values of the attributes, whereas the last column holds the class label for that instance.\n",
    "\n",
    "In a decision tree, if you reach a leaf node but still have examples that belong to different classes, then choose the most frequent class (among the instances at the leaf node). If you reach a leaf node in the decision tree and have no examples left or the examples are equally split among multiple classes, then choose the class that is most frequent in the entire training set. You do not need to implement pruning. Also, don’t forget to use logarithm base 2 when computing entropy and set (0 log 0) to 0.\n",
    "\n",
    "Write the code in the following code block, structure is provided. Instructions on the steps to follow are provided as comments. The code should output the following 3 things:\n",
    "\n",
    "*   Print the Decision Tree created, in the following example format:\n",
    "\n",
    "    ```\n",
    "    attr1 = 0 :\n",
    "        attr2 = 0 :\n",
    "            attr3 = 0 : 1\n",
    "            attr3 = 1 : 0\n",
    "        attr3 = 1 :\n",
    "            attr4 = 0 : 0\n",
    "            attr4 = 1 : 1\n",
    "    attr1 = 1 :\n",
    "        attr2 = 1 : 1\n",
    "\n",
    "    ```\n",
    "\n",
    "*   Accuracy on the Training data = x %\n",
    "*   Accuracy on the Test data = x %\n",
    "\n",
    "\n",
    "\n"
   ]
  },
  {
   "cell_type": "code",
   "execution_count": 5,
   "metadata": {
    "id": "XELGzRDftS77"
   },
   "outputs": [
    {
     "name": "stdout",
     "output_type": "stream",
     "text": [
      "6\n"
     ]
    }
   ],
   "source": [
    "# Following is the base code structure. You are free to change the code structure as you see fit, maybe even create more functions.\n",
    "\n",
    "\n",
    "# Pseudocode for the ID3 algorithm. Use this to create a function. You can also have more functions for the other parts mentioned.\n",
    "# def ID3(data, root, attributesRemaining):\n",
    "def ID3(data, root, attributesRemaining):\n",
    "    # If you reach a leaf node in the decision tree and have no examples left or the examples are equally split among multiple classes\n",
    "        # Choose and the class that is most frequent in the entire training set and return the updated tree\n",
    "    # If all the instances have only one class label\n",
    "        # Make this as the leaf node and use the label as the class value of the node and return the updated tree\n",
    "    # If you reached a leaf node but still have examples that belong to different classes (there are no remaining attributes to be split)\n",
    "        # Assign the most frequent class among the instances at the leaf node and return the updated tree\n",
    "    # Find the best attribute to split by calculating the maximum information gain from the attributes remaining by calculating the entropy\n",
    "    # Split the tree using the best attribute and recursively call the ID3 function using DFS to fill the sub-tree\n",
    "    # return the root as the tree\n",
    "\n",
    "\n",
    "\n",
    "# Data file name variables\n",
    "train = 'id3-train.dat'\n",
    "test = 'id3-test.dat'\n",
    "\n",
    "# Read the first line in the training data file, to get the number of attributes\n",
    "training_file = open(train, 'r')\n",
    "test_file = open(test, 'r')\n",
    "attr_line = training_file.readline().strip('\\n').split('\\t')\n",
    "num_attr = len(attr_line) - 1\n",
    "# Read all the training instances and the ground truth class labels.\n",
    "training_instances = np.loadtxt(train, skiprows=1, delimiter='\\t', usecols=(1,2,3,4,5,6))\n",
    "# Create the decision tree by implementing the ID3 algorithm. Pseudocode provided above.\n",
    "# Print the tree in the example format mentioned.\n",
    "# Use the above created tree to predict the training data and print the accuracy as \"Accuracy on the Training data = x %\"\n",
    "    # For each training instance, predict the output label\n",
    "    # Compare it with the ground truth class label and calculate the accuracy accordingly\n",
    "# Use the above created tree to predict the testing data and print the accuracy as \"Accuracy on the Test data = x %\"\n",
    "    # For each testing instance, predict the output label\n",
    "    # Compare it with the ground truth class label and calculate the accuracy accordingly\n",
    "\n",
    "\n"
   ]
  },
  {
   "cell_type": "markdown",
   "metadata": {
    "id": "YvYowzzA4vcd"
   },
   "source": [
    "##Extra Credit - Learning Curve\n",
    "\n",
    "(10 points)\n",
    "\n",
    "Instead of taking the entire training data (all 800 instances), loop through to select 'x' instances in the increments of 40 (i.e. 40, 80, 120, and so on). For each selected number 'x', randomly pick the example instances from the training data and call the ID3 function to create the decision tree. Calculate the accuracy of the created ID3 tree on the Test data file. Plot the corresponding graph, aka Learning Curve.\n"
   ]
  },
  {
   "cell_type": "code",
   "execution_count": null,
   "metadata": {
    "id": "FYSK99zp5a7H"
   },
   "outputs": [],
   "source": [
    "# Loop through to select the number of instances 'x' in increments of 40\n",
    "# For each 'x',\n",
    "    # Randomly select 'x' instances\n",
    "    # Create the ID3 decision tree using those instances\n",
    "    # Calculate the accuracy of the ID3 tree created on the Test data\n",
    "\n",
    "# Plot the learning curve using the accuracy values\n",
    "    # X-axis will be the number of training instances used for creating the tree\n",
    "    # Y-axis will be the accuracy in % on the Test data\n",
    "\n",
    "\n"
   ]
  },
  {
   "cell_type": "markdown",
   "metadata": {
    "id": "YJSFgNBQrhQU"
   },
   "source": [
    "#Submission Instructions\n",
    "\n",
    "\n",
    "\n",
    "1.   Complete all tasks above.\n",
    "2.   Export this notebook as .ipynb\n",
    "      (File > Download as ipynb)\n",
    "3.   Upload the .ipynb file on Blackboard\n",
    "\n"
   ]
  },
  {
   "cell_type": "markdown",
   "metadata": {
    "id": "0lGvLE9H6ptL"
   },
   "source": [
    "##Rubric\n",
    "\n",
    "*   (25 points) Gradient Descent Algorithm\n",
    "*   (2.5 points) Extra Credit - GD Accuracy Plots\n",
    "*   (25 points) ID3 Algorithm\n",
    "*   (2.5 points) Extra Credit - ID3 Learning Curve\n",
    "\n",
    "\n",
    "\n"
   ]
  }
 ],
 "metadata": {
  "colab": {
   "collapsed_sections": [],
   "name": "CS3793_5233_assignment3_abc123.ipynb",
   "provenance": [],
   "toc_visible": true
  },
  "kernelspec": {
   "display_name": "Python 3",
   "language": "python",
   "name": "python3"
  },
  "language_info": {
   "codemirror_mode": {
    "name": "ipython",
    "version": 3
   },
   "file_extension": ".py",
   "mimetype": "text/x-python",
   "name": "python",
   "nbconvert_exporter": "python",
   "pygments_lexer": "ipython3",
   "version": "3.8.2"
  }
 },
 "nbformat": 4,
 "nbformat_minor": 1
}
