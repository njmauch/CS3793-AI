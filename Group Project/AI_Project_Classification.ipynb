{
  "nbformat": 4,
  "nbformat_minor": 0,
  "metadata": {
    "colab": {
      "name": "AI-Project-Classification.ipynb",
      "provenance": [],
      "collapsed_sections": [],
      "toc_visible": true
    },
    "kernelspec": {
      "name": "python3",
      "display_name": "Python 3"
    }
  },
  "cells": [
    {
      "cell_type": "markdown",
      "metadata": {
        "id": "yf6SztvIOxvS"
      },
      "source": [
        "## Diagnosis and Important Feature Selection Using Common Medical Data\n",
        "\n",
        "#### A Use Case of Artificial Neural Networks"
      ]
    },
    {
      "cell_type": "code",
      "metadata": {
        "id": "tCQq3qV4iRxK",
        "colab": {
          "base_uri": "https://localhost:8080/"
        },
        "outputId": "41d24662-6eb5-4604-f559-829a51bfda60"
      },
      "source": [
        "#install shap , run once only\n",
        "!pip install shap"
      ],
      "execution_count": null,
      "outputs": [
        {
          "output_type": "stream",
          "text": [
            "Collecting shap\n",
            "\u001b[?25l  Downloading https://files.pythonhosted.org/packages/85/a3/c0eab9dd6a894165e2cb87504ff5b2710ac5ede3447d9138620b7341b6a2/shap-0.37.0.tar.gz (326kB)\n",
            "\r\u001b[K     |█                               | 10kB 14.7MB/s eta 0:00:01\r\u001b[K     |██                              | 20kB 20.6MB/s eta 0:00:01\r\u001b[K     |███                             | 30kB 12.3MB/s eta 0:00:01\r\u001b[K     |████                            | 40kB 8.7MB/s eta 0:00:01\r\u001b[K     |█████                           | 51kB 4.4MB/s eta 0:00:01\r\u001b[K     |██████                          | 61kB 4.8MB/s eta 0:00:01\r\u001b[K     |███████                         | 71kB 5.4MB/s eta 0:00:01\r\u001b[K     |████████                        | 81kB 5.5MB/s eta 0:00:01\r\u001b[K     |█████████                       | 92kB 5.4MB/s eta 0:00:01\r\u001b[K     |██████████                      | 102kB 5.8MB/s eta 0:00:01\r\u001b[K     |███████████                     | 112kB 5.8MB/s eta 0:00:01\r\u001b[K     |████████████                    | 122kB 5.8MB/s eta 0:00:01\r\u001b[K     |█████████████                   | 133kB 5.8MB/s eta 0:00:01\r\u001b[K     |██████████████                  | 143kB 5.8MB/s eta 0:00:01\r\u001b[K     |███████████████                 | 153kB 5.8MB/s eta 0:00:01\r\u001b[K     |████████████████                | 163kB 5.8MB/s eta 0:00:01\r\u001b[K     |█████████████████               | 174kB 5.8MB/s eta 0:00:01\r\u001b[K     |██████████████████              | 184kB 5.8MB/s eta 0:00:01\r\u001b[K     |███████████████████             | 194kB 5.8MB/s eta 0:00:01\r\u001b[K     |████████████████████            | 204kB 5.8MB/s eta 0:00:01\r\u001b[K     |█████████████████████           | 215kB 5.8MB/s eta 0:00:01\r\u001b[K     |██████████████████████          | 225kB 5.8MB/s eta 0:00:01\r\u001b[K     |███████████████████████         | 235kB 5.8MB/s eta 0:00:01\r\u001b[K     |████████████████████████        | 245kB 5.8MB/s eta 0:00:01\r\u001b[K     |█████████████████████████       | 256kB 5.8MB/s eta 0:00:01\r\u001b[K     |██████████████████████████      | 266kB 5.8MB/s eta 0:00:01\r\u001b[K     |███████████████████████████     | 276kB 5.8MB/s eta 0:00:01\r\u001b[K     |████████████████████████████    | 286kB 5.8MB/s eta 0:00:01\r\u001b[K     |█████████████████████████████   | 296kB 5.8MB/s eta 0:00:01\r\u001b[K     |██████████████████████████████  | 307kB 5.8MB/s eta 0:00:01\r\u001b[K     |███████████████████████████████ | 317kB 5.8MB/s eta 0:00:01\r\u001b[K     |████████████████████████████████| 327kB 5.8MB/s \n",
            "\u001b[?25hRequirement already satisfied: numpy in /usr/local/lib/python3.6/dist-packages (from shap) (1.18.5)\n",
            "Requirement already satisfied: scipy in /usr/local/lib/python3.6/dist-packages (from shap) (1.4.1)\n",
            "Requirement already satisfied: scikit-learn in /usr/local/lib/python3.6/dist-packages (from shap) (0.22.2.post1)\n",
            "Requirement already satisfied: pandas in /usr/local/lib/python3.6/dist-packages (from shap) (1.1.4)\n",
            "Requirement already satisfied: tqdm>4.25.0 in /usr/local/lib/python3.6/dist-packages (from shap) (4.41.1)\n",
            "Collecting slicer==0.0.3\n",
            "  Downloading https://files.pythonhosted.org/packages/02/a6/c708c5a0f338e99cfbcb6288b88794525548e4fc1b8457feec2c552a81a4/slicer-0.0.3-py3-none-any.whl\n",
            "Requirement already satisfied: numba in /usr/local/lib/python3.6/dist-packages (from shap) (0.48.0)\n",
            "Requirement already satisfied: joblib>=0.11 in /usr/local/lib/python3.6/dist-packages (from scikit-learn->shap) (0.17.0)\n",
            "Requirement already satisfied: pytz>=2017.2 in /usr/local/lib/python3.6/dist-packages (from pandas->shap) (2018.9)\n",
            "Requirement already satisfied: python-dateutil>=2.7.3 in /usr/local/lib/python3.6/dist-packages (from pandas->shap) (2.8.1)\n",
            "Requirement already satisfied: llvmlite<0.32.0,>=0.31.0dev0 in /usr/local/lib/python3.6/dist-packages (from numba->shap) (0.31.0)\n",
            "Requirement already satisfied: setuptools in /usr/local/lib/python3.6/dist-packages (from numba->shap) (50.3.2)\n",
            "Requirement already satisfied: six>=1.5 in /usr/local/lib/python3.6/dist-packages (from python-dateutil>=2.7.3->pandas->shap) (1.15.0)\n",
            "Building wheels for collected packages: shap\n",
            "  Building wheel for shap (setup.py) ... \u001b[?25l\u001b[?25hdone\n",
            "  Created wheel for shap: filename=shap-0.37.0-cp36-cp36m-linux_x86_64.whl size=463902 sha256=1938f3c18323ef371767d62c3c0f9717813378e6e602dad8fd4f7846a388fa28\n",
            "  Stored in directory: /root/.cache/pip/wheels/df/ad/b0/aa7815ec68850d66551ef618095eccb962c8f6022f1d3dd989\n",
            "Successfully built shap\n",
            "Installing collected packages: slicer, shap\n",
            "Successfully installed shap-0.37.0 slicer-0.0.3\n"
          ],
          "name": "stdout"
        }
      ]
    },
    {
      "cell_type": "code",
      "metadata": {
        "id": "w6DL_L9YOcnM"
      },
      "source": [
        "#import libraries\n",
        "import numpy as np\n",
        "import matplotlib.pyplot as plt\n",
        "import pandas as pd\n",
        "import shap"
      ],
      "execution_count": null,
      "outputs": []
    },
    {
      "cell_type": "code",
      "metadata": {
        "colab": {
          "base_uri": "https://localhost:8080/"
        },
        "id": "CElByr6UJyBD",
        "outputId": "6b8bdb0f-9cc8-4cb6-865a-f7f973576063"
      },
      "source": [
        "from google.colab import drive\n",
        "drive.mount('/content/drive')"
      ],
      "execution_count": null,
      "outputs": [
        {
          "output_type": "stream",
          "text": [
            "Mounted at /content/drive\n"
          ],
          "name": "stdout"
        }
      ]
    },
    {
      "cell_type": "code",
      "metadata": {
        "id": "ldbghQenQpT7",
        "colab": {
          "base_uri": "https://localhost:8080/"
        },
        "outputId": "b6efcc82-cc0d-461c-add5-cd9d74ab84e7"
      },
      "source": [
        "# Importing the dataset\n",
        "df = pd.read_excel('/content/drive/MyDrive/Colab Notebooks/TrimmedData.xlsx')\n",
        "df = df.drop(columns=['Unnamed: 0','SEQN'])\n",
        "print(df)\n"
      ],
      "execution_count": null,
      "outputs": [
        {
          "output_type": "stream",
          "text": [
            "      RIAGENDR  RIDAGEYR  RIDRETH3  DMDEDUC3  ...  SMQ621  SMQ040  DIQ010  DIQ175A\n",
            "0            2         2         6       NaN  ...     NaN     NaN     2.0      NaN\n",
            "1            1         2         3       NaN  ...     NaN     NaN     2.0      NaN\n",
            "2            2        66         4       NaN  ...     NaN     3.0     2.0      NaN\n",
            "3            1        18         6      15.0  ...     NaN     NaN     2.0      NaN\n",
            "4            1        13         7       6.0  ...     1.0     NaN     2.0      NaN\n",
            "...        ...       ...       ...       ...  ...     ...     ...     ...      ...\n",
            "9249         2        70         6       NaN  ...     NaN     NaN     3.0      NaN\n",
            "9250         1        42         1       NaN  ...     NaN     3.0     2.0      NaN\n",
            "9251         2        41         4       NaN  ...     NaN     NaN     2.0      NaN\n",
            "9252         2        14         4       8.0  ...     1.0     NaN     2.0      NaN\n",
            "9253         1        38         3       NaN  ...     NaN     1.0     2.0      NaN\n",
            "\n",
            "[9254 rows x 21 columns]\n"
          ],
          "name": "stdout"
        }
      ]
    },
    {
      "cell_type": "code",
      "metadata": {
        "id": "Fdj81AqwQu5l",
        "colab": {
          "base_uri": "https://localhost:8080/"
        },
        "outputId": "ddbf8a36-4bbb-4ebb-d22c-22ff751c7cca"
      },
      "source": [
        "#Manipulate data\n",
        "# print(df.isnull().sum())\n",
        "# remove features with too little data < 33% populated\n",
        "df_nonull = df.copy()\n",
        "for feature in df.columns:\n",
        "  if df[feature].isnull().sum() >= 6000:\n",
        "    df_nonull = df_nonull.drop(columns=[feature])\n",
        "\n",
        "# average out NaN values\n",
        "# df_nonull.info()\n",
        "df_X = df_nonull.copy().drop(columns='DIQ010')\n",
        "df_X = df_X.fillna(df_X.mean())\n",
        "df_Y = df_nonull['DIQ010']\n",
        "df_Y.fillna(2)\n",
        "\n",
        "# Encoding categorical data\n",
        "X = df_X.to_numpy()\n",
        "Y = df_Y.to_numpy()\n",
        "# Encoding the Independent Variable\n",
        "from sklearn.preprocessing import LabelEncoder, OneHotEncoder, label_binarize\n",
        "labelencoder_Y = LabelEncoder()\n",
        "Y = labelencoder_Y.fit_transform(Y)\n",
        "# labelencoder_X_2 = LabelEncoder()\n",
        "# X[:, 2] = labelencoder_X_2.fit_transform(X[:, 2])\n",
        "Y = label_binarize(Y, classes=[0,1,2])\n",
        "# X = onehotencoder.fit_transform(X).toarray()\n",
        "# X = X[:, 1:]\n",
        "print(df_nonull)\n",
        "print(Y)"
      ],
      "execution_count": null,
      "outputs": [
        {
          "output_type": "stream",
          "text": [
            "      RIAGENDR  RIDAGEYR  RIDRETH3  DMDEDUC2  ...  PAQ635  PAQ650  PAQ665  DIQ010\n",
            "0            2         2         6       NaN  ...     NaN     NaN     NaN     2.0\n",
            "1            1         2         3       NaN  ...     NaN     NaN     NaN     2.0\n",
            "2            2        66         4       2.0  ...     2.0     2.0     1.0     2.0\n",
            "3            1        18         6       NaN  ...     1.0     2.0     1.0     2.0\n",
            "4            1        13         7       NaN  ...     NaN     NaN     NaN     2.0\n",
            "...        ...       ...       ...       ...  ...     ...     ...     ...     ...\n",
            "9249         2        70         6       3.0  ...     2.0     2.0     1.0     3.0\n",
            "9250         1        42         1       3.0  ...     2.0     2.0     2.0     2.0\n",
            "9251         2        41         4       5.0  ...     2.0     2.0     1.0     2.0\n",
            "9252         2        14         4       NaN  ...     NaN     NaN     NaN     2.0\n",
            "9253         1        38         3       4.0  ...     2.0     2.0     2.0     2.0\n",
            "\n",
            "[9254 rows x 16 columns]\n",
            "[[0 1 0]\n",
            " [0 1 0]\n",
            " [0 1 0]\n",
            " ...\n",
            " [0 1 0]\n",
            " [0 1 0]\n",
            " [0 1 0]]\n"
          ],
          "name": "stdout"
        }
      ]
    },
    {
      "cell_type": "code",
      "metadata": {
        "id": "DGC2i3HTQxyX"
      },
      "source": [
        "#Split, Scale Data\n",
        "                \n",
        "# Splitting the dataset into the Training set and Test set\n",
        "from sklearn.model_selection import train_test_split\n",
        "X_train, X_test, y_train, y_test = train_test_split(X, Y, test_size = 0.4, random_state = 42)\n",
        "\n",
        "# Feature Scaling\n",
        "from sklearn.preprocessing import StandardScaler\n",
        "sc = StandardScaler()\n",
        "X_train = sc.fit_transform(X_train)\n",
        "X_test = sc.transform(X_test)\n",
        "\n"
      ],
      "execution_count": null,
      "outputs": []
    },
    {
      "cell_type": "code",
      "metadata": {
        "colab": {
          "base_uri": "https://localhost:8080/"
        },
        "id": "psLIvm4NnBJO",
        "outputId": "0505f566-1a5d-4a25-9b4d-40884feac472"
      },
      "source": [
        "print(X_train.shape, y_train.shape)"
      ],
      "execution_count": null,
      "outputs": [
        {
          "output_type": "stream",
          "text": [
            "(5552, 15) (5552, 3)\n"
          ],
          "name": "stdout"
        }
      ]
    },
    {
      "cell_type": "code",
      "metadata": {
        "id": "yINi5lV6RNhF"
      },
      "source": [
        "#the ANN Model\n",
        "import keras\n",
        "from keras.models import Sequential\n",
        "from keras.layers import Dense\n",
        "\n",
        "#initialize the ANN as a sequence of layers\n",
        "classifier = Sequential()\n",
        "\n",
        "#adding the input layer and the first hidden layer \n",
        "classifier.add(Dense(64, activation = 'relu', input_dim = 15))\n",
        "\n",
        "#adding the second hidden layer\n",
        "classifier.add(Dense(32, activation = 'relu'))\n",
        "\n",
        "#adding the second hidden layer\n",
        "classifier.add(Dense(16, activation = 'relu'))\n",
        "\n",
        "#adding the output layer\n",
        "classifier.add(Dense(3, activation = 'sigmoid'))\n",
        "\n",
        "#Compiling the ANN - apply stochastic gradient descent \n",
        "classifier.compile(optimizer = 'adam', loss = 'binary_crossentropy', metrics = ['accuracy'])\n",
        "\n"
      ],
      "execution_count": null,
      "outputs": []
    },
    {
      "cell_type": "code",
      "metadata": {
        "id": "t5xYxQjQN1As",
        "colab": {
          "base_uri": "https://localhost:8080/"
        },
        "outputId": "65d91395-caa9-4344-c003-6147e7f4f869"
      },
      "source": [
        "# model info\n",
        "classifier.summary()"
      ],
      "execution_count": null,
      "outputs": [
        {
          "output_type": "stream",
          "text": [
            "Model: \"sequential\"\n",
            "_________________________________________________________________\n",
            "Layer (type)                 Output Shape              Param #   \n",
            "=================================================================\n",
            "dense (Dense)                (None, 64)                1024      \n",
            "_________________________________________________________________\n",
            "dense_1 (Dense)              (None, 32)                2080      \n",
            "_________________________________________________________________\n",
            "dense_2 (Dense)              (None, 16)                528       \n",
            "_________________________________________________________________\n",
            "dense_3 (Dense)              (None, 3)                 51        \n",
            "=================================================================\n",
            "Total params: 3,683\n",
            "Trainable params: 3,683\n",
            "Non-trainable params: 0\n",
            "_________________________________________________________________\n"
          ],
          "name": "stdout"
        }
      ]
    },
    {
      "cell_type": "code",
      "metadata": {
        "id": "WRy_9xMXRX29",
        "colab": {
          "base_uri": "https://localhost:8080/"
        },
        "outputId": "a8be6716-804e-4eb7-eeb0-72d6fb4e23a5"
      },
      "source": [
        "#Traning\n",
        "classifier.fit(X_train, y_train, batch_size = 25, epochs = 200)\n",
        "\n"
      ],
      "execution_count": null,
      "outputs": [
        {
          "output_type": "stream",
          "text": [
            "Epoch 1/200\n",
            "223/223 [==============================] - 0s 1ms/step - loss: 0.3111 - accuracy: 0.8220\n",
            "Epoch 2/200\n",
            "223/223 [==============================] - 0s 1ms/step - loss: 0.2380 - accuracy: 0.8465\n",
            "Epoch 3/200\n",
            "223/223 [==============================] - 0s 1ms/step - loss: 0.2262 - accuracy: 0.8465\n",
            "Epoch 4/200\n",
            "223/223 [==============================] - 0s 1ms/step - loss: 0.2175 - accuracy: 0.8464\n",
            "Epoch 5/200\n",
            "223/223 [==============================] - 0s 1ms/step - loss: 0.2120 - accuracy: 0.8471\n",
            "Epoch 6/200\n",
            "223/223 [==============================] - 0s 1ms/step - loss: 0.2080 - accuracy: 0.8471\n",
            "Epoch 7/200\n",
            "223/223 [==============================] - 0s 1ms/step - loss: 0.2055 - accuracy: 0.8478\n",
            "Epoch 8/200\n",
            "223/223 [==============================] - 0s 1ms/step - loss: 0.2036 - accuracy: 0.8501\n",
            "Epoch 9/200\n",
            "223/223 [==============================] - 0s 1ms/step - loss: 0.2011 - accuracy: 0.8487\n",
            "Epoch 10/200\n",
            "223/223 [==============================] - 0s 1ms/step - loss: 0.2004 - accuracy: 0.8482\n",
            "Epoch 11/200\n",
            "223/223 [==============================] - 0s 1ms/step - loss: 0.1974 - accuracy: 0.8510\n",
            "Epoch 12/200\n",
            "223/223 [==============================] - 0s 1ms/step - loss: 0.1968 - accuracy: 0.8503\n",
            "Epoch 13/200\n",
            "223/223 [==============================] - 0s 1ms/step - loss: 0.1949 - accuracy: 0.8510\n",
            "Epoch 14/200\n",
            "223/223 [==============================] - 0s 1ms/step - loss: 0.1943 - accuracy: 0.8532\n",
            "Epoch 15/200\n",
            "223/223 [==============================] - 0s 1ms/step - loss: 0.1934 - accuracy: 0.8545\n",
            "Epoch 16/200\n",
            "223/223 [==============================] - 0s 1ms/step - loss: 0.1911 - accuracy: 0.8539\n",
            "Epoch 17/200\n",
            "223/223 [==============================] - 0s 1ms/step - loss: 0.1906 - accuracy: 0.8528\n",
            "Epoch 18/200\n",
            "223/223 [==============================] - 0s 1ms/step - loss: 0.1882 - accuracy: 0.8536\n",
            "Epoch 19/200\n",
            "223/223 [==============================] - 0s 1ms/step - loss: 0.1883 - accuracy: 0.8536\n",
            "Epoch 20/200\n",
            "223/223 [==============================] - 0s 1ms/step - loss: 0.1864 - accuracy: 0.8546\n",
            "Epoch 21/200\n",
            "223/223 [==============================] - 0s 1ms/step - loss: 0.1847 - accuracy: 0.8548\n",
            "Epoch 22/200\n",
            "223/223 [==============================] - 0s 1ms/step - loss: 0.1850 - accuracy: 0.8543\n",
            "Epoch 23/200\n",
            "223/223 [==============================] - 0s 1ms/step - loss: 0.1818 - accuracy: 0.8564\n",
            "Epoch 24/200\n",
            "223/223 [==============================] - 0s 1ms/step - loss: 0.1794 - accuracy: 0.8577\n",
            "Epoch 25/200\n",
            "223/223 [==============================] - 0s 1ms/step - loss: 0.1789 - accuracy: 0.8577\n",
            "Epoch 26/200\n",
            "223/223 [==============================] - 0s 1ms/step - loss: 0.1777 - accuracy: 0.8586\n",
            "Epoch 27/200\n",
            "223/223 [==============================] - 0s 1ms/step - loss: 0.1762 - accuracy: 0.8591\n",
            "Epoch 28/200\n",
            "223/223 [==============================] - 0s 1ms/step - loss: 0.1768 - accuracy: 0.8582\n",
            "Epoch 29/200\n",
            "223/223 [==============================] - 0s 1ms/step - loss: 0.1756 - accuracy: 0.8588\n",
            "Epoch 30/200\n",
            "223/223 [==============================] - 0s 1ms/step - loss: 0.1717 - accuracy: 0.8620\n",
            "Epoch 31/200\n",
            "223/223 [==============================] - 0s 1ms/step - loss: 0.1717 - accuracy: 0.8628\n",
            "Epoch 32/200\n",
            "223/223 [==============================] - 0s 1ms/step - loss: 0.1691 - accuracy: 0.8604\n",
            "Epoch 33/200\n",
            "223/223 [==============================] - 0s 1ms/step - loss: 0.1676 - accuracy: 0.8606\n",
            "Epoch 34/200\n",
            "223/223 [==============================] - 0s 1ms/step - loss: 0.1654 - accuracy: 0.8638\n",
            "Epoch 35/200\n",
            "223/223 [==============================] - 0s 1ms/step - loss: 0.1647 - accuracy: 0.8617\n",
            "Epoch 36/200\n",
            "223/223 [==============================] - 0s 1ms/step - loss: 0.1639 - accuracy: 0.8644\n",
            "Epoch 37/200\n",
            "223/223 [==============================] - 0s 1ms/step - loss: 0.1638 - accuracy: 0.8646\n",
            "Epoch 38/200\n",
            "223/223 [==============================] - 0s 1ms/step - loss: 0.1613 - accuracy: 0.8647\n",
            "Epoch 39/200\n",
            "223/223 [==============================] - 0s 1ms/step - loss: 0.1608 - accuracy: 0.8629\n",
            "Epoch 40/200\n",
            "223/223 [==============================] - 0s 1ms/step - loss: 0.1578 - accuracy: 0.8683\n",
            "Epoch 41/200\n",
            "223/223 [==============================] - 0s 1ms/step - loss: 0.1557 - accuracy: 0.8680\n",
            "Epoch 42/200\n",
            "223/223 [==============================] - 0s 1ms/step - loss: 0.1568 - accuracy: 0.8691\n",
            "Epoch 43/200\n",
            "223/223 [==============================] - 0s 1ms/step - loss: 0.1553 - accuracy: 0.8673\n",
            "Epoch 44/200\n",
            "223/223 [==============================] - 0s 1ms/step - loss: 0.1534 - accuracy: 0.8694\n",
            "Epoch 45/200\n",
            "223/223 [==============================] - 0s 1ms/step - loss: 0.1527 - accuracy: 0.8692\n",
            "Epoch 46/200\n",
            "223/223 [==============================] - 0s 1ms/step - loss: 0.1506 - accuracy: 0.8734\n",
            "Epoch 47/200\n",
            "223/223 [==============================] - 0s 1ms/step - loss: 0.1508 - accuracy: 0.8709\n",
            "Epoch 48/200\n",
            "223/223 [==============================] - 0s 1ms/step - loss: 0.1488 - accuracy: 0.8719\n",
            "Epoch 49/200\n",
            "223/223 [==============================] - 0s 1ms/step - loss: 0.1479 - accuracy: 0.8727\n",
            "Epoch 50/200\n",
            "223/223 [==============================] - 0s 1ms/step - loss: 0.1438 - accuracy: 0.8745\n",
            "Epoch 51/200\n",
            "223/223 [==============================] - 0s 1ms/step - loss: 0.1464 - accuracy: 0.8739\n",
            "Epoch 52/200\n",
            "223/223 [==============================] - 0s 1ms/step - loss: 0.1445 - accuracy: 0.8764\n",
            "Epoch 53/200\n",
            "223/223 [==============================] - 0s 1ms/step - loss: 0.1422 - accuracy: 0.8745\n",
            "Epoch 54/200\n",
            "223/223 [==============================] - 0s 1ms/step - loss: 0.1412 - accuracy: 0.8746\n",
            "Epoch 55/200\n",
            "223/223 [==============================] - 0s 1ms/step - loss: 0.1411 - accuracy: 0.8761\n",
            "Epoch 56/200\n",
            "223/223 [==============================] - 0s 1ms/step - loss: 0.1408 - accuracy: 0.8784\n",
            "Epoch 57/200\n",
            "223/223 [==============================] - 0s 1ms/step - loss: 0.1386 - accuracy: 0.8797\n",
            "Epoch 58/200\n",
            "223/223 [==============================] - 0s 1ms/step - loss: 0.1391 - accuracy: 0.8784\n",
            "Epoch 59/200\n",
            "223/223 [==============================] - 0s 1ms/step - loss: 0.1386 - accuracy: 0.8799\n",
            "Epoch 60/200\n",
            "223/223 [==============================] - 0s 1ms/step - loss: 0.1361 - accuracy: 0.8804\n",
            "Epoch 61/200\n",
            "223/223 [==============================] - 0s 1ms/step - loss: 0.1375 - accuracy: 0.8790\n",
            "Epoch 62/200\n",
            "223/223 [==============================] - 0s 1ms/step - loss: 0.1345 - accuracy: 0.8826\n",
            "Epoch 63/200\n",
            "223/223 [==============================] - 0s 1ms/step - loss: 0.1376 - accuracy: 0.8773\n",
            "Epoch 64/200\n",
            "223/223 [==============================] - 0s 1ms/step - loss: 0.1331 - accuracy: 0.8811\n",
            "Epoch 65/200\n",
            "223/223 [==============================] - 0s 1ms/step - loss: 0.1301 - accuracy: 0.8845\n",
            "Epoch 66/200\n",
            "223/223 [==============================] - 0s 1ms/step - loss: 0.1300 - accuracy: 0.8835\n",
            "Epoch 67/200\n",
            "223/223 [==============================] - 0s 1ms/step - loss: 0.1286 - accuracy: 0.8838\n",
            "Epoch 68/200\n",
            "223/223 [==============================] - 0s 1ms/step - loss: 0.1308 - accuracy: 0.8840\n",
            "Epoch 69/200\n",
            "223/223 [==============================] - 0s 1ms/step - loss: 0.1275 - accuracy: 0.8854\n",
            "Epoch 70/200\n",
            "223/223 [==============================] - 0s 1ms/step - loss: 0.1272 - accuracy: 0.8885\n",
            "Epoch 71/200\n",
            "223/223 [==============================] - 0s 1ms/step - loss: 0.1247 - accuracy: 0.8878\n",
            "Epoch 72/200\n",
            "223/223 [==============================] - 0s 1ms/step - loss: 0.1241 - accuracy: 0.8876\n",
            "Epoch 73/200\n",
            "223/223 [==============================] - 0s 1ms/step - loss: 0.1238 - accuracy: 0.8887\n",
            "Epoch 74/200\n",
            "223/223 [==============================] - 0s 1ms/step - loss: 0.1240 - accuracy: 0.8898\n",
            "Epoch 75/200\n",
            "223/223 [==============================] - 0s 1ms/step - loss: 0.1248 - accuracy: 0.8876\n",
            "Epoch 76/200\n",
            "223/223 [==============================] - 0s 1ms/step - loss: 0.1232 - accuracy: 0.8903\n",
            "Epoch 77/200\n",
            "223/223 [==============================] - 0s 1ms/step - loss: 0.1201 - accuracy: 0.8909\n",
            "Epoch 78/200\n",
            "223/223 [==============================] - 0s 1ms/step - loss: 0.1202 - accuracy: 0.8910\n",
            "Epoch 79/200\n",
            "223/223 [==============================] - 0s 1ms/step - loss: 0.1191 - accuracy: 0.8876\n",
            "Epoch 80/200\n",
            "223/223 [==============================] - 0s 1ms/step - loss: 0.1188 - accuracy: 0.8881\n",
            "Epoch 81/200\n",
            "223/223 [==============================] - 0s 1ms/step - loss: 0.1166 - accuracy: 0.8936\n",
            "Epoch 82/200\n",
            "223/223 [==============================] - 0s 1ms/step - loss: 0.1165 - accuracy: 0.8932\n",
            "Epoch 83/200\n",
            "223/223 [==============================] - 0s 1ms/step - loss: 0.1141 - accuracy: 0.8952\n",
            "Epoch 84/200\n",
            "223/223 [==============================] - 0s 1ms/step - loss: 0.1138 - accuracy: 0.8948\n",
            "Epoch 85/200\n",
            "223/223 [==============================] - 0s 1ms/step - loss: 0.1118 - accuracy: 0.8946\n",
            "Epoch 86/200\n",
            "223/223 [==============================] - 0s 1ms/step - loss: 0.1152 - accuracy: 0.8955\n",
            "Epoch 87/200\n",
            "223/223 [==============================] - 0s 1ms/step - loss: 0.1117 - accuracy: 0.8955\n",
            "Epoch 88/200\n",
            "223/223 [==============================] - 0s 1ms/step - loss: 0.1113 - accuracy: 0.8959\n",
            "Epoch 89/200\n",
            "223/223 [==============================] - 0s 1ms/step - loss: 0.1141 - accuracy: 0.8948\n",
            "Epoch 90/200\n",
            "223/223 [==============================] - 0s 1ms/step - loss: 0.1115 - accuracy: 0.8943\n",
            "Epoch 91/200\n",
            "223/223 [==============================] - 0s 1ms/step - loss: 0.1077 - accuracy: 0.8995\n",
            "Epoch 92/200\n",
            "223/223 [==============================] - 0s 1ms/step - loss: 0.1080 - accuracy: 0.8984\n",
            "Epoch 93/200\n",
            "223/223 [==============================] - 0s 2ms/step - loss: 0.1084 - accuracy: 0.8968\n",
            "Epoch 94/200\n",
            "223/223 [==============================] - 0s 1ms/step - loss: 0.1117 - accuracy: 0.8973\n",
            "Epoch 95/200\n",
            "223/223 [==============================] - 0s 1ms/step - loss: 0.1081 - accuracy: 0.9002\n",
            "Epoch 96/200\n",
            "223/223 [==============================] - 0s 1ms/step - loss: 0.1095 - accuracy: 0.8975\n",
            "Epoch 97/200\n",
            "223/223 [==============================] - 0s 1ms/step - loss: 0.1041 - accuracy: 0.8997\n",
            "Epoch 98/200\n",
            "223/223 [==============================] - 0s 1ms/step - loss: 0.1045 - accuracy: 0.9020\n",
            "Epoch 99/200\n",
            "223/223 [==============================] - 0s 1ms/step - loss: 0.1056 - accuracy: 0.9017\n",
            "Epoch 100/200\n",
            "223/223 [==============================] - 0s 1ms/step - loss: 0.1028 - accuracy: 0.9002\n",
            "Epoch 101/200\n",
            "223/223 [==============================] - 0s 1ms/step - loss: 0.1061 - accuracy: 0.9004\n",
            "Epoch 102/200\n",
            "223/223 [==============================] - 0s 1ms/step - loss: 0.1007 - accuracy: 0.9049\n",
            "Epoch 103/200\n",
            "223/223 [==============================] - 0s 1ms/step - loss: 0.1001 - accuracy: 0.8993\n",
            "Epoch 104/200\n",
            "223/223 [==============================] - 0s 1ms/step - loss: 0.1019 - accuracy: 0.9002\n",
            "Epoch 105/200\n",
            "223/223 [==============================] - 0s 1ms/step - loss: 0.0982 - accuracy: 0.9015\n",
            "Epoch 106/200\n",
            "223/223 [==============================] - 0s 1ms/step - loss: 0.0988 - accuracy: 0.9017\n",
            "Epoch 107/200\n",
            "223/223 [==============================] - 0s 1ms/step - loss: 0.0993 - accuracy: 0.9063\n",
            "Epoch 108/200\n",
            "223/223 [==============================] - 0s 1ms/step - loss: 0.1050 - accuracy: 0.9008\n",
            "Epoch 109/200\n",
            "223/223 [==============================] - 0s 1ms/step - loss: 0.0996 - accuracy: 0.9035\n",
            "Epoch 110/200\n",
            "223/223 [==============================] - 0s 1ms/step - loss: 0.0996 - accuracy: 0.9078\n",
            "Epoch 111/200\n",
            "223/223 [==============================] - 0s 1ms/step - loss: 0.0971 - accuracy: 0.9074\n",
            "Epoch 112/200\n",
            "223/223 [==============================] - 0s 1ms/step - loss: 0.0941 - accuracy: 0.9036\n",
            "Epoch 113/200\n",
            "223/223 [==============================] - 0s 1ms/step - loss: 0.0947 - accuracy: 0.9026\n",
            "Epoch 114/200\n",
            "223/223 [==============================] - 0s 1ms/step - loss: 0.0965 - accuracy: 0.9045\n",
            "Epoch 115/200\n",
            "223/223 [==============================] - 0s 1ms/step - loss: 0.0946 - accuracy: 0.9063\n",
            "Epoch 116/200\n",
            "223/223 [==============================] - 0s 1ms/step - loss: 0.1015 - accuracy: 0.9008\n",
            "Epoch 117/200\n",
            "223/223 [==============================] - 0s 1ms/step - loss: 0.0927 - accuracy: 0.9062\n",
            "Epoch 118/200\n",
            "223/223 [==============================] - 0s 1ms/step - loss: 0.0925 - accuracy: 0.9081\n",
            "Epoch 119/200\n",
            "223/223 [==============================] - 0s 1ms/step - loss: 0.0914 - accuracy: 0.9044\n",
            "Epoch 120/200\n",
            "223/223 [==============================] - 0s 1ms/step - loss: 0.0953 - accuracy: 0.9067\n",
            "Epoch 121/200\n",
            "223/223 [==============================] - 0s 1ms/step - loss: 0.0962 - accuracy: 0.9067\n",
            "Epoch 122/200\n",
            "223/223 [==============================] - 0s 2ms/step - loss: 0.0903 - accuracy: 0.9094\n",
            "Epoch 123/200\n",
            "223/223 [==============================] - 0s 1ms/step - loss: 0.0901 - accuracy: 0.9103\n",
            "Epoch 124/200\n",
            "223/223 [==============================] - 0s 1ms/step - loss: 0.0891 - accuracy: 0.9089\n",
            "Epoch 125/200\n",
            "223/223 [==============================] - 0s 1ms/step - loss: 0.0884 - accuracy: 0.9108\n",
            "Epoch 126/200\n",
            "223/223 [==============================] - 0s 1ms/step - loss: 0.0920 - accuracy: 0.9087\n",
            "Epoch 127/200\n",
            "223/223 [==============================] - 0s 1ms/step - loss: 0.0890 - accuracy: 0.9096\n",
            "Epoch 128/200\n",
            "223/223 [==============================] - 0s 1ms/step - loss: 0.0885 - accuracy: 0.9128\n",
            "Epoch 129/200\n",
            "223/223 [==============================] - 0s 1ms/step - loss: 0.0926 - accuracy: 0.9081\n",
            "Epoch 130/200\n",
            "223/223 [==============================] - 0s 1ms/step - loss: 0.0846 - accuracy: 0.9141\n",
            "Epoch 131/200\n",
            "223/223 [==============================] - 0s 1ms/step - loss: 0.0925 - accuracy: 0.9108\n",
            "Epoch 132/200\n",
            "223/223 [==============================] - 0s 1ms/step - loss: 0.0846 - accuracy: 0.9123\n",
            "Epoch 133/200\n",
            "223/223 [==============================] - 0s 1ms/step - loss: 0.0871 - accuracy: 0.9119\n",
            "Epoch 134/200\n",
            "223/223 [==============================] - 0s 1ms/step - loss: 0.0843 - accuracy: 0.9098\n",
            "Epoch 135/200\n",
            "223/223 [==============================] - 0s 1ms/step - loss: 0.0859 - accuracy: 0.9139\n",
            "Epoch 136/200\n",
            "223/223 [==============================] - 0s 2ms/step - loss: 0.0835 - accuracy: 0.9114\n",
            "Epoch 137/200\n",
            "223/223 [==============================] - 0s 1ms/step - loss: 0.0820 - accuracy: 0.9161\n",
            "Epoch 138/200\n",
            "223/223 [==============================] - 0s 1ms/step - loss: 0.0807 - accuracy: 0.9148\n",
            "Epoch 139/200\n",
            "223/223 [==============================] - 0s 1ms/step - loss: 0.0810 - accuracy: 0.9137\n",
            "Epoch 140/200\n",
            "223/223 [==============================] - 0s 1ms/step - loss: 0.0829 - accuracy: 0.9135\n",
            "Epoch 141/200\n",
            "223/223 [==============================] - 0s 1ms/step - loss: 0.0898 - accuracy: 0.9148\n",
            "Epoch 142/200\n",
            "223/223 [==============================] - 0s 1ms/step - loss: 0.0821 - accuracy: 0.9114\n",
            "Epoch 143/200\n",
            "223/223 [==============================] - 0s 1ms/step - loss: 0.0810 - accuracy: 0.9159\n",
            "Epoch 144/200\n",
            "223/223 [==============================] - 0s 1ms/step - loss: 0.0792 - accuracy: 0.9166\n",
            "Epoch 145/200\n",
            "223/223 [==============================] - 0s 1ms/step - loss: 0.0801 - accuracy: 0.9180\n",
            "Epoch 146/200\n",
            "223/223 [==============================] - 0s 1ms/step - loss: 0.0800 - accuracy: 0.9170\n",
            "Epoch 147/200\n",
            "223/223 [==============================] - 0s 1ms/step - loss: 0.0778 - accuracy: 0.9197\n",
            "Epoch 148/200\n",
            "223/223 [==============================] - 0s 1ms/step - loss: 0.0762 - accuracy: 0.9186\n",
            "Epoch 149/200\n",
            "223/223 [==============================] - 0s 1ms/step - loss: 0.0780 - accuracy: 0.9180\n",
            "Epoch 150/200\n",
            "223/223 [==============================] - 0s 1ms/step - loss: 0.0916 - accuracy: 0.9074\n",
            "Epoch 151/200\n",
            "223/223 [==============================] - 0s 1ms/step - loss: 0.0811 - accuracy: 0.9146\n",
            "Epoch 152/200\n",
            "223/223 [==============================] - 0s 1ms/step - loss: 0.0770 - accuracy: 0.9189\n",
            "Epoch 153/200\n",
            "223/223 [==============================] - 0s 1ms/step - loss: 0.0729 - accuracy: 0.9198\n",
            "Epoch 154/200\n",
            "223/223 [==============================] - 0s 1ms/step - loss: 0.0744 - accuracy: 0.9193\n",
            "Epoch 155/200\n",
            "223/223 [==============================] - 0s 1ms/step - loss: 0.0736 - accuracy: 0.9220\n",
            "Epoch 156/200\n",
            "223/223 [==============================] - 0s 1ms/step - loss: 0.0762 - accuracy: 0.9162\n",
            "Epoch 157/200\n",
            "223/223 [==============================] - 0s 1ms/step - loss: 0.0753 - accuracy: 0.9200\n",
            "Epoch 158/200\n",
            "223/223 [==============================] - 0s 1ms/step - loss: 0.0722 - accuracy: 0.9206\n",
            "Epoch 159/200\n",
            "223/223 [==============================] - 0s 1ms/step - loss: 0.0745 - accuracy: 0.9191\n",
            "Epoch 160/200\n",
            "223/223 [==============================] - 0s 1ms/step - loss: 0.0747 - accuracy: 0.9177\n",
            "Epoch 161/200\n",
            "223/223 [==============================] - 0s 1ms/step - loss: 0.0731 - accuracy: 0.9218\n",
            "Epoch 162/200\n",
            "223/223 [==============================] - 0s 1ms/step - loss: 0.0739 - accuracy: 0.9198\n",
            "Epoch 163/200\n",
            "223/223 [==============================] - 0s 1ms/step - loss: 0.0733 - accuracy: 0.9191\n",
            "Epoch 164/200\n",
            "223/223 [==============================] - 0s 1ms/step - loss: 0.0754 - accuracy: 0.9186\n",
            "Epoch 165/200\n",
            "223/223 [==============================] - 0s 1ms/step - loss: 0.0689 - accuracy: 0.9235\n",
            "Epoch 166/200\n",
            "223/223 [==============================] - 0s 1ms/step - loss: 0.0747 - accuracy: 0.9213\n",
            "Epoch 167/200\n",
            "223/223 [==============================] - 0s 1ms/step - loss: 0.0812 - accuracy: 0.9180\n",
            "Epoch 168/200\n",
            "223/223 [==============================] - 0s 1ms/step - loss: 0.0750 - accuracy: 0.9200\n",
            "Epoch 169/200\n",
            "223/223 [==============================] - 0s 1ms/step - loss: 0.0690 - accuracy: 0.9235\n",
            "Epoch 170/200\n",
            "223/223 [==============================] - 0s 1ms/step - loss: 0.0692 - accuracy: 0.9218\n",
            "Epoch 171/200\n",
            "223/223 [==============================] - 0s 1ms/step - loss: 0.0725 - accuracy: 0.9209\n",
            "Epoch 172/200\n",
            "223/223 [==============================] - 0s 1ms/step - loss: 0.0751 - accuracy: 0.9209\n",
            "Epoch 173/200\n",
            "223/223 [==============================] - 0s 1ms/step - loss: 0.0691 - accuracy: 0.9238\n",
            "Epoch 174/200\n",
            "223/223 [==============================] - 0s 1ms/step - loss: 0.0719 - accuracy: 0.9216\n",
            "Epoch 175/200\n",
            "223/223 [==============================] - 0s 1ms/step - loss: 0.0675 - accuracy: 0.9231\n",
            "Epoch 176/200\n",
            "223/223 [==============================] - 0s 1ms/step - loss: 0.0656 - accuracy: 0.9256\n",
            "Epoch 177/200\n",
            "223/223 [==============================] - 0s 1ms/step - loss: 0.0643 - accuracy: 0.9258\n",
            "Epoch 178/200\n",
            "223/223 [==============================] - 0s 1ms/step - loss: 0.0695 - accuracy: 0.9235\n",
            "Epoch 179/200\n",
            "223/223 [==============================] - 0s 1ms/step - loss: 0.0707 - accuracy: 0.9231\n",
            "Epoch 180/200\n",
            "223/223 [==============================] - 0s 1ms/step - loss: 0.0719 - accuracy: 0.9222\n",
            "Epoch 181/200\n",
            "223/223 [==============================] - 0s 1ms/step - loss: 0.0698 - accuracy: 0.9189\n",
            "Epoch 182/200\n",
            "223/223 [==============================] - 0s 1ms/step - loss: 0.0670 - accuracy: 0.9265\n",
            "Epoch 183/200\n",
            "223/223 [==============================] - 0s 1ms/step - loss: 0.0684 - accuracy: 0.9256\n",
            "Epoch 184/200\n",
            "223/223 [==============================] - 0s 1ms/step - loss: 0.0668 - accuracy: 0.9222\n",
            "Epoch 185/200\n",
            "223/223 [==============================] - 0s 1ms/step - loss: 0.0625 - accuracy: 0.9269\n",
            "Epoch 186/200\n",
            "223/223 [==============================] - 0s 1ms/step - loss: 0.0642 - accuracy: 0.9258\n",
            "Epoch 187/200\n",
            "223/223 [==============================] - 0s 1ms/step - loss: 0.0670 - accuracy: 0.9276\n",
            "Epoch 188/200\n",
            "223/223 [==============================] - 0s 1ms/step - loss: 0.0719 - accuracy: 0.9235\n",
            "Epoch 189/200\n",
            "223/223 [==============================] - 0s 1ms/step - loss: 0.0701 - accuracy: 0.9249\n",
            "Epoch 190/200\n",
            "223/223 [==============================] - 0s 1ms/step - loss: 0.0635 - accuracy: 0.9260\n",
            "Epoch 191/200\n",
            "223/223 [==============================] - 0s 1ms/step - loss: 0.0656 - accuracy: 0.9249\n",
            "Epoch 192/200\n",
            "223/223 [==============================] - 0s 1ms/step - loss: 0.0635 - accuracy: 0.9263\n",
            "Epoch 193/200\n",
            "223/223 [==============================] - 0s 1ms/step - loss: 0.0640 - accuracy: 0.9274\n",
            "Epoch 194/200\n",
            "223/223 [==============================] - 0s 1ms/step - loss: 0.0607 - accuracy: 0.9281\n",
            "Epoch 195/200\n",
            "223/223 [==============================] - 0s 1ms/step - loss: 0.0634 - accuracy: 0.9260\n",
            "Epoch 196/200\n",
            "223/223 [==============================] - 0s 1ms/step - loss: 0.0664 - accuracy: 0.9285\n",
            "Epoch 197/200\n",
            "223/223 [==============================] - 0s 1ms/step - loss: 0.0734 - accuracy: 0.9233\n",
            "Epoch 198/200\n",
            "223/223 [==============================] - 0s 1ms/step - loss: 0.0679 - accuracy: 0.9213\n",
            "Epoch 199/200\n",
            "223/223 [==============================] - 0s 1ms/step - loss: 0.0605 - accuracy: 0.9289\n",
            "Epoch 200/200\n",
            "223/223 [==============================] - 0s 1ms/step - loss: 0.0613 - accuracy: 0.9263\n"
          ],
          "name": "stdout"
        },
        {
          "output_type": "execute_result",
          "data": {
            "text/plain": [
              "<tensorflow.python.keras.callbacks.History at 0x7f9f2203d780>"
            ]
          },
          "metadata": {
            "tags": []
          },
          "execution_count": 11
        }
      ]
    },
    {
      "cell_type": "code",
      "metadata": {
        "id": "dqycp_ouRbO1",
        "colab": {
          "base_uri": "https://localhost:8080/"
        },
        "outputId": "5c41f3b1-a43b-4fda-b1d3-8f887ec9826d"
      },
      "source": [
        "# Prediction and Testing\n",
        "y_pred = classifier.predict(X_test)\n",
        "y_label = np.argmax(y_pred, axis=-1)\n",
        "y_true = np.argmax(y_test, axis=-1)\n",
        "match = 0\n",
        "for i in range(y_label.shape[0]):\n",
        "  if y_label[i] == y_true[i]:\n",
        "    match +=1\n",
        "print((match/y_label.shape[0])*100)"
      ],
      "execution_count": null,
      "outputs": [
        {
          "output_type": "stream",
          "text": [
            "81.95569962182604\n"
          ],
          "name": "stdout"
        }
      ]
    },
    {
      "cell_type": "code",
      "metadata": {
        "id": "mkYWTIvcRs6W",
        "colab": {
          "base_uri": "https://localhost:8080/"
        },
        "outputId": "7dcf832d-4ab4-4a55-e66e-a51dbbe1d35c"
      },
      "source": [
        "# Analysis of Feature Set\n",
        "# Deepshap analysis\n",
        "background = X_train[np.random.choice(X_train.shape[0], 100, replace=False)]\n",
        "e = shap.DeepExplainer(classifier, background)\n",
        "shap_values = e.shap_values(X_test)"
      ],
      "execution_count": null,
      "outputs": [
        {
          "output_type": "stream",
          "text": [
            "WARNING:tensorflow:From /usr/local/lib/python3.6/dist-packages/shap/explainers/_deep/deep_tf.py:236: set_learning_phase (from tensorflow.python.keras.backend) is deprecated and will be removed after 2020-10-11.\n",
            "Instructions for updating:\n",
            "Simply pass a True/False value to the `training` argument of the `__call__` method of your layer or model.\n"
          ],
          "name": "stdout"
        },
        {
          "output_type": "stream",
          "text": [
            "keras is no longer supported, please use tf.keras instead.\n"
          ],
          "name": "stderr"
        }
      ]
    },
    {
      "cell_type": "code",
      "metadata": {
        "id": "NAg26-68i5-r"
      },
      "source": [
        "# save values for later use\n",
        "np.save('shaply_values.npy',shap_values)"
      ],
      "execution_count": null,
      "outputs": []
    },
    {
      "cell_type": "code",
      "metadata": {
        "colab": {
          "base_uri": "https://localhost:8080/",
          "height": 490
        },
        "id": "GLYPTSSpjJtS",
        "outputId": "c57c32e8-2c70-478d-b6fe-4aef630fe03c"
      },
      "source": [
        "print(shap_values[0].shape)\n",
        "# plot features\n",
        "shap.summary_plot(shap_values[0], X_test, plot_type=\"bar\",feature_names=df_X.columns)"
      ],
      "execution_count": null,
      "outputs": [
        {
          "output_type": "stream",
          "text": [
            "(3702, 15)\n"
          ],
          "name": "stdout"
        },
        {
          "output_type": "display_data",
          "data": {
            "image/png": "[encoded data removed]",
            "text/plain": [
              "<Figure size 576x540 with 1 Axes>"
            ]
          },
          "metadata": {
            "tags": [],
            "needs_background": "light"
          }
        }
      ]
    },
    {
      "cell_type": "code",
      "metadata": {
        "colab": {
          "base_uri": "https://localhost:8080/",
          "height": 477
        },
        "id": "x9QpFDwGngSY",
        "outputId": "d0edf051-988f-41e1-9385-c6b1aa87dd2e"
      },
      "source": [
        "shap.summary_plot(shap_values[0], X_test,feature_names=df_X.columns)"
      ],
      "execution_count": null,
      "outputs": [
        {
          "output_type": "display_data",
          "data": {
            "image/png": "[encoded data removed]",
            "text/plain": [
              "<Figure size 576x540 with 2 Axes>"
            ]
          },
          "metadata": {
            "tags": [],
            "needs_background": "light"
          }
        }
      ]
    }
  ]
}