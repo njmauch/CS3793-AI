{
 "cells": [
  {
   "cell_type": "code",
   "execution_count": null,
   "metadata": {},
   "outputs": [],
   "source": [
    "# Nathan Mauch nja859\n",
    "# Lab 1 - Agents(Chatbot)"
   ]
  },
  {
   "cell_type": "code",
   "execution_count": 1,
   "metadata": {},
   "outputs": [
    {
     "name": "stdout",
     "output_type": "stream",
     "text": [
      "Bot: Hello! Welcome to Restaurant A La Mauch!\n",
      "You: jdfiowa\n",
      "Bot: Hello! Welcome to Restaurant A La Mauch!\n",
      "You: Hi\n",
      "Bot: How are you feeling today?\n",
      "You: good\n",
      "Bot: That's good to read.  Do you already have a reservation?\n",
      "You: 39432s\n",
      "Bot: That's good to read.  Do you already have a reservation?\n",
      "You: Yes\n",
      "Bot: Would you like to make another one now?\n",
      "You: Yes\n",
      "Bot: When would you like your reservation for?\n",
      "You: Monday\n",
      "Sure I can help you with that. A table for how many people?\n",
      "You: 3\n",
      "Bot: It's all set. Have a good day!\n",
      "You: Thank you!\n"
     ]
    },
    {
     "data": {
      "text/plain": [
       "'Thank you!'"
      ]
     },
     "execution_count": 1,
     "metadata": {},
     "output_type": "execute_result"
    }
   ],
   "source": [
    "# list of reasonable responses from user\n",
    "greeting_list = [\"hey\", \"hello\", \"yo\", \"whats up\", \"hi\", \"howdy\", \"what up\", \"hey there\"]\n",
    "good_feeling_list = [\"good\", \"fine\", \"well\", \"jolly\", \"excited\", \"nice\", \"fabulous\", \"fantastic\", \"delightful\", \"great\"]\n",
    "bad_feeling_list = [\"not good\", \"not well\", \"unwell\", \"bad\", \"angry\", \"impatient\", \"sad\", \"upset\"]\n",
    "no_list = [\"nope\", \"no\", \"i don't\", \"i don't\", \"nah\", \"nay\", \"i do not\"]\n",
    "yes_list = [\"yes\", \"yeah\", \"ya\", \"yea\", \"yup\", \"please\", \"i would\"]\n",
    "days_list = [\"saturday\", \"sunday\", \"monday\", \"tuesday\", \"wednesday\", \"thursday\", \"friday\", \"sat\", \"sun\", \"mon\",\n",
    "             \"tues\", \"wed\", \"thurs\", \"fri\"]\n",
    "\n",
    "# First greeting and customer response to that greeting\n",
    "print(\"Bot: Hello! Welcome to Restaurant A La Mauch!\")\n",
    "customer_response = input(\"You: \")\n",
    "while not any(sub_string in customer_response.lower() for sub_string in greeting_list):\n",
    "    print(\"Bot: Hello! Welcome to Restaurant A La Mauch!\")\n",
    "    customer_response = input(\"You: \")\n",
    "\n",
    "# Ask how the customer is feeling today\n",
    "print(\"Bot: How are you feeling today?\")\n",
    "customer_response = input(\"You: \")\n",
    "\n",
    "# Checks that the response feeling is in the range of acceptable responses\n",
    "while not ((any(sub_string in customer_response.lower() for sub_string in good_feeling_list)) or\n",
    "           (any(sub_string in customer_response.lower() for sub_string in bad_feeling_list))):\n",
    "    print(\"Bot: How are you feeling today?\")\n",
    "    customer_response = input(\"You: \")\n",
    "\n",
    "# If a bad feeling will response with apology and ask if they want a reservation\n",
    "if any(sub_string in customer_response.lower() for sub_string in bad_feeling_list):\n",
    "    while not ((any(sub_string in customer_response.lower() for sub_string in no_list)) or\n",
    "               (any(sub_string in customer_response.lower() for sub_string in yes_list))):\n",
    "        print(\"Bot: I'm sorry to read that. Do you already have a reservation?\")\n",
    "        customer_response = input(\"You: \")\n",
    "# If a good feeling, expresses that is good to read and ask about existing reservation\n",
    "elif any(sub_string in customer_response.lower() for sub_string in good_feeling_list):\n",
    "    while not ((any(sub_string in customer_response.lower() for sub_string in no_list)) or\n",
    "               (any(sub_string in customer_response.lower() for sub_string in yes_list))):\n",
    "        print(\"Bot: That's good to read.  Do you already have a reservation?\")\n",
    "        customer_response = input(\"You: \")\n",
    "\n",
    "# If the customer already has a reservation ask if they want another one\n",
    "if any(sub_string in customer_response.lower() for sub_string in yes_list):\n",
    "    customer_response = \"\"\n",
    "    while not ((any(sub_string in customer_response.lower() for sub_string in no_list)) or\n",
    "               (any(sub_string in customer_response.lower() for sub_string in yes_list))):\n",
    "        print(\"Bot: Would you like to make another one now?\")\n",
    "        customer_response = input(\"You: \")\n",
    "# If the customer does not have a reservation ask if they want to make one\n",
    "elif any(sub_string in customer_response.lower() for sub_string in no_list):\n",
    "    customer_response = \"\"\n",
    "    while not ((any(sub_string in customer_response.lower() for sub_string in no_list)) or (\n",
    "            any(sub_string in customer_response.lower() for sub_string in yes_list))):\n",
    "        print(\"Bot: Would you like to make one now?\")\n",
    "        customer_response = input(\"You: \")\n",
    "\n",
    "# If the customer does want to make one ask when would they like to make it for\n",
    "if any(sub_string in customer_response.lower() for sub_string in yes_list):\n",
    "    print(\"Bot: When would you like your reservation for?\")\n",
    "    customer_response = input(\"You: \")\n",
    "# If the customer does not want to make one then exit\n",
    "elif any(sub_string in customer_response.lower() for sub_string in no_list):\n",
    "    print(\"Bot: Okay, thank you and have a wonderful day!\")\n",
    "    exit(1)\n",
    "\n",
    "# Keep prompting on when the reservation is for till acceptable answer is made\n",
    "while not any(sub_string in customer_response.lower() for sub_string in days_list):\n",
    "    print(\"Bot: When would you like the reservation for?\")\n",
    "    customer_response = input(\"You: \")\n",
    "\n",
    "# Ask how many people will be joining at the table\n",
    "print(\"Sure I can help you with that. A table for how many people?\")\n",
    "customer_response = input(\"You: \")\n",
    "# If customer answers with 0 or 15 respond that reservation is to large or to small\n",
    "while int(customer_response) <= 0 or int(customer_response) > 15:\n",
    "    if int(customer_response) <= 0:\n",
    "        print(\"Bot: I cannot make a reservation for 0 or less people. How many people will be at your table?\")\n",
    "    if int(customer_response) > 15:\n",
    "        print(\"Bot: Our max table reservation is 15. How many people will be at your table?\")\n",
    "    customer_response = input(\"You: \")\n",
    "\n",
    "# End of conversation\n",
    "print(\"Bot: It's all set. Have a good day!\")\n",
    "input(\"You: \")"
   ]
  },
  {
   "cell_type": "code",
   "execution_count": null,
   "metadata": {},
   "outputs": [],
   "source": []
  }
 ],
 "metadata": {
  "kernelspec": {
   "display_name": "Python 3",
   "language": "python",
   "name": "python3"
  },
  "language_info": {
   "codemirror_mode": {
    "name": "ipython",
    "version": 3
   },
   "file_extension": ".py",
   "mimetype": "text/x-python",
   "name": "python",
   "nbconvert_exporter": "python",
   "pygments_lexer": "ipython3",
   "version": "3.8.2"
  }
 },
 "nbformat": 4,
 "nbformat_minor": 4
}
